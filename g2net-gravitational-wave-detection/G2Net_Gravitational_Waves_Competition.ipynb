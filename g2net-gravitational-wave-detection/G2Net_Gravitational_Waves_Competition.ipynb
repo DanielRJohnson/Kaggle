{
  "nbformat": 4,
  "nbformat_minor": 0,
  "metadata": {
    "colab": {
      "name": "G2Net Gravitational Waves Competition.ipynb",
      "provenance": [],
      "authorship_tag": "ABX9TyPqzkE4yUDelFcj5Vsma4nd",
      "include_colab_link": true
    },
    "kernelspec": {
      "name": "python3",
      "display_name": "Python 3"
    },
    "language_info": {
      "name": "python"
    }
  },
  "cells": [
    {
      "cell_type": "markdown",
      "metadata": {
        "id": "view-in-github",
        "colab_type": "text"
      },
      "source": [
        "<a href=\"https://colab.research.google.com/github/DanielRJohnson/Kaggle/blob/master/g2net-gravitational-wave-detection/G2Net_Gravitational_Waves_Competition.ipynb\" target=\"_parent\"><img src=\"https://colab.research.google.com/assets/colab-badge.svg\" alt=\"Open In Colab\"/></a>"
      ]
    },
    {
      "cell_type": "code",
      "metadata": {
        "id": "ScX8hF97ziw3"
      },
      "source": [
        "# Nothing yet - collab edit test\n",
        "# g2net-gravitational-wave-detection"
      ],
      "execution_count": null,
      "outputs": []
    }
  ]
}